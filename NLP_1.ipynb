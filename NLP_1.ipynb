{
  "nbformat": 4,
  "nbformat_minor": 0,
  "metadata": {
    "colab": {
      "provenance": []
    },
    "kernelspec": {
      "name": "python3",
      "display_name": "Python 3"
    },
    "language_info": {
      "name": "python"
    }
  },
  "cells": [
    {
      "cell_type": "code",
      "source": [
        "!pip install nltk"
      ],
      "metadata": {
        "colab": {
          "base_uri": "https://localhost:8080/"
        },
        "id": "uV0dvcjENb8S",
        "outputId": "142fc153-0efc-4a8f-89d7-045f06002c2a"
      },
      "execution_count": null,
      "outputs": [
        {
          "output_type": "stream",
          "name": "stdout",
          "text": [
            "Requirement already satisfied: nltk in /usr/local/lib/python3.10/dist-packages (3.8.1)\n",
            "Requirement already satisfied: click in /usr/local/lib/python3.10/dist-packages (from nltk) (8.1.7)\n",
            "Requirement already satisfied: joblib in /usr/local/lib/python3.10/dist-packages (from nltk) (1.4.2)\n",
            "Requirement already satisfied: regex>=2021.8.3 in /usr/local/lib/python3.10/dist-packages (from nltk) (2024.5.15)\n",
            "Requirement already satisfied: tqdm in /usr/local/lib/python3.10/dist-packages (from nltk) (4.66.4)\n"
          ]
        }
      ]
    },
    {
      "cell_type": "code",
      "source": [
        "from nltk.tokenize import sent_tokenize, word_tokenize"
      ],
      "metadata": {
        "id": "yIw4IoweO0Ml"
      },
      "execution_count": null,
      "outputs": []
    },
    {
      "cell_type": "code",
      "source": [
        "import nltk\n",
        "nltk.download('punkt')\n",
        "nltk.download('wordnet')\n",
        "from nltk.corpus import wordnet as wn"
      ],
      "metadata": {
        "colab": {
          "base_uri": "https://localhost:8080/"
        },
        "id": "DE0ZhQPpQ2tz",
        "outputId": "8468cae4-ba57-4b94-b445-f4ba1faef972"
      },
      "execution_count": null,
      "outputs": [
        {
          "output_type": "stream",
          "name": "stderr",
          "text": [
            "[nltk_data] Downloading package punkt to /root/nltk_data...\n",
            "[nltk_data]   Package punkt is already up-to-date!\n",
            "[nltk_data] Downloading package wordnet to /root/nltk_data...\n",
            "[nltk_data]   Package wordnet is already up-to-date!\n"
          ]
        }
      ]
    },
    {
      "cell_type": "code",
      "source": [
        "string1 = \"\"\" Backgammon is one of the oldest known board games. Its history can be traced back nearly 5,000 years to archeological discoveries in the Middle East. It is a two player game where each player has fifteen checkers which move between twenty-four points according to the roll of two dice.\"\"\""
      ],
      "metadata": {
        "id": "9uiChlkHPkGJ"
      },
      "execution_count": null,
      "outputs": []
    },
    {
      "cell_type": "code",
      "source": [
        "sent_tokenize(string1)"
      ],
      "metadata": {
        "colab": {
          "base_uri": "https://localhost:8080/"
        },
        "id": "GcExWDazQBUx",
        "outputId": "c8d676ae-7a96-440c-b1f9-b54d66968b11"
      },
      "execution_count": null,
      "outputs": [
        {
          "output_type": "execute_result",
          "data": {
            "text/plain": [
              "[' Backgammon is one of the oldest known board games.',\n",
              " 'Its history can be traced back nearly 5,000 years to archeological discoveries in the Middle East.',\n",
              " 'It is a two player game where each player has fifteen checkers which move between twenty-four points according to the roll of two dice.']"
            ]
          },
          "metadata": {},
          "execution_count": 8
        }
      ]
    },
    {
      "cell_type": "code",
      "source": [
        "words_in_sen = word_tokenize(string1)\n",
        "print(words_in_sen)"
      ],
      "metadata": {
        "colab": {
          "base_uri": "https://localhost:8080/"
        },
        "id": "yfEqqUcQRHZJ",
        "outputId": "f7477727-51ee-44ba-e188-dbbae3381805"
      },
      "execution_count": null,
      "outputs": [
        {
          "output_type": "stream",
          "name": "stdout",
          "text": [
            "['Backgammon', 'is', 'one', 'of', 'the', 'oldest', 'known', 'board', 'games', '.', 'Its', 'history', 'can', 'be', 'traced', 'back', 'nearly', '5,000', 'years', 'to', 'archeological', 'discoveries', 'in', 'the', 'Middle', 'East', '.', 'It', 'is', 'a', 'two', 'player', 'game', 'where', 'each', 'player', 'has', 'fifteen', 'checkers', 'which', 'move', 'between', 'twenty-four', 'points', 'according', 'to', 'the', 'roll', 'of', 'two', 'dice', '.']\n"
          ]
        }
      ]
    },
    {
      "cell_type": "code",
      "source": [
        "nltk.download(\"stopwords\")\n",
        "from nltk.corpus import stopwords"
      ],
      "metadata": {
        "colab": {
          "base_uri": "https://localhost:8080/"
        },
        "id": "hWpTrdwTRRdH",
        "outputId": "c5b91b7b-d74d-4e4c-b299-5e0147be2750"
      },
      "execution_count": null,
      "outputs": [
        {
          "output_type": "stream",
          "name": "stderr",
          "text": [
            "[nltk_data] Downloading package stopwords to /root/nltk_data...\n",
            "[nltk_data]   Unzipping corpora/stopwords.zip.\n"
          ]
        }
      ]
    },
    {
      "cell_type": "code",
      "source": [
        "stop_words = set(stopwords.words(\"english\"))"
      ],
      "metadata": {
        "id": "Wntgkc9cRj00"
      },
      "execution_count": null,
      "outputs": []
    },
    {
      "cell_type": "code",
      "source": [
        "filtered_list = []"
      ],
      "metadata": {
        "id": "TXRyEkI-SyAu"
      },
      "execution_count": null,
      "outputs": []
    },
    {
      "cell_type": "code",
      "source": [
        "for word in words_in_sen:\n",
        "    if word.casefold() not in stop_words:\n",
        "         filtered_list.append(word)"
      ],
      "metadata": {
        "id": "MWBH1tAmS3L-"
      },
      "execution_count": null,
      "outputs": []
    },
    {
      "cell_type": "code",
      "source": [
        "filtered_list = [\n",
        "     word for word in words_in_sen if word.casefold() not in stop_words\n",
        "]\n",
        "filtered_list\n"
      ],
      "metadata": {
        "colab": {
          "base_uri": "https://localhost:8080/"
        },
        "id": "nOpFI0smTRE6",
        "outputId": "7a3ba2bf-ae40-4d41-b2a8-00a5d564b5be"
      },
      "execution_count": null,
      "outputs": [
        {
          "output_type": "execute_result",
          "data": {
            "text/plain": [
              "['Backgammon',\n",
              " 'one',\n",
              " 'oldest',\n",
              " 'known',\n",
              " 'board',\n",
              " 'games',\n",
              " '.',\n",
              " 'history',\n",
              " 'traced',\n",
              " 'back',\n",
              " 'nearly',\n",
              " '5,000',\n",
              " 'years',\n",
              " 'archeological',\n",
              " 'discoveries',\n",
              " 'Middle',\n",
              " 'East',\n",
              " '.',\n",
              " 'two',\n",
              " 'player',\n",
              " 'game',\n",
              " 'player',\n",
              " 'fifteen',\n",
              " 'checkers',\n",
              " 'move',\n",
              " 'twenty-four',\n",
              " 'points',\n",
              " 'according',\n",
              " 'roll',\n",
              " 'two',\n",
              " 'dice',\n",
              " '.']"
            ]
          },
          "metadata": {},
          "execution_count": 22
        }
      ]
    },
    {
      "cell_type": "code",
      "source": [
        "from nltk.stem import PorterStemmer\n",
        "from nltk.stem.snowball import SnowballStemmer"
      ],
      "metadata": {
        "id": "7eXkCJtzT1ps"
      },
      "execution_count": null,
      "outputs": []
    },
    {
      "cell_type": "code",
      "source": [
        "stemmer1 = PorterStemmer()\n",
        "stemmer2 = SnowballStemmer(language = 'english')"
      ],
      "metadata": {
        "id": "i98_iGmVT4-v"
      },
      "execution_count": null,
      "outputs": []
    },
    {
      "cell_type": "code",
      "source": [
        "stemmed_words = [stemmer1.stem(word) for word in words_in_sen]\n",
        "stemmed_words"
      ],
      "metadata": {
        "colab": {
          "base_uri": "https://localhost:8080/"
        },
        "id": "m_DVf7awUTEv",
        "outputId": "4079f2d7-1f50-4a5d-9220-f3d83eba7aed"
      },
      "execution_count": null,
      "outputs": [
        {
          "output_type": "execute_result",
          "data": {
            "text/plain": [
              "['backgammon',\n",
              " 'is',\n",
              " 'one',\n",
              " 'of',\n",
              " 'the',\n",
              " 'oldest',\n",
              " 'known',\n",
              " 'board',\n",
              " 'game',\n",
              " '.',\n",
              " 'it',\n",
              " 'histori',\n",
              " 'can',\n",
              " 'be',\n",
              " 'trace',\n",
              " 'back',\n",
              " 'nearli',\n",
              " '5,000',\n",
              " 'year',\n",
              " 'to',\n",
              " 'archeolog',\n",
              " 'discoveri',\n",
              " 'in',\n",
              " 'the',\n",
              " 'middl',\n",
              " 'east',\n",
              " '.',\n",
              " 'it',\n",
              " 'is',\n",
              " 'a',\n",
              " 'two',\n",
              " 'player',\n",
              " 'game',\n",
              " 'where',\n",
              " 'each',\n",
              " 'player',\n",
              " 'ha',\n",
              " 'fifteen',\n",
              " 'checker',\n",
              " 'which',\n",
              " 'move',\n",
              " 'between',\n",
              " 'twenty-four',\n",
              " 'point',\n",
              " 'accord',\n",
              " 'to',\n",
              " 'the',\n",
              " 'roll',\n",
              " 'of',\n",
              " 'two',\n",
              " 'dice',\n",
              " '.']"
            ]
          },
          "metadata": {},
          "execution_count": 41
        }
      ]
    },
    {
      "cell_type": "code",
      "source": [
        "stemmed_words = [stemmer2.stem(word) for word in words_in_sen]\n",
        "stemmed_words"
      ],
      "metadata": {
        "colab": {
          "base_uri": "https://localhost:8080/"
        },
        "id": "eSLcXi7GUmzq",
        "outputId": "3a7fecb6-4d34-4ab1-81bb-4c1b08fbdb8c"
      },
      "execution_count": null,
      "outputs": [
        {
          "output_type": "execute_result",
          "data": {
            "text/plain": [
              "['backgammon',\n",
              " 'is',\n",
              " 'one',\n",
              " 'of',\n",
              " 'the',\n",
              " 'oldest',\n",
              " 'known',\n",
              " 'board',\n",
              " 'game',\n",
              " '.',\n",
              " 'it',\n",
              " 'histori',\n",
              " 'can',\n",
              " 'be',\n",
              " 'trace',\n",
              " 'back',\n",
              " 'near',\n",
              " '5,000',\n",
              " 'year',\n",
              " 'to',\n",
              " 'archeolog',\n",
              " 'discoveri',\n",
              " 'in',\n",
              " 'the',\n",
              " 'middl',\n",
              " 'east',\n",
              " '.',\n",
              " 'it',\n",
              " 'is',\n",
              " 'a',\n",
              " 'two',\n",
              " 'player',\n",
              " 'game',\n",
              " 'where',\n",
              " 'each',\n",
              " 'player',\n",
              " 'has',\n",
              " 'fifteen',\n",
              " 'checker',\n",
              " 'which',\n",
              " 'move',\n",
              " 'between',\n",
              " 'twenty-four',\n",
              " 'point',\n",
              " 'accord',\n",
              " 'to',\n",
              " 'the',\n",
              " 'roll',\n",
              " 'of',\n",
              " 'two',\n",
              " 'dice',\n",
              " '.']"
            ]
          },
          "metadata": {},
          "execution_count": 42
        }
      ]
    },
    {
      "cell_type": "code",
      "source": [
        "from nltk.stem import WordNetLemmatizer"
      ],
      "metadata": {
        "id": "0N6Z8ezhVxO-"
      },
      "execution_count": null,
      "outputs": []
    },
    {
      "cell_type": "code",
      "source": [
        "lemmatizer = WordNetLemmatizer()"
      ],
      "metadata": {
        "id": "bgwH1LBaZdIf"
      },
      "execution_count": null,
      "outputs": []
    },
    {
      "cell_type": "code",
      "source": [
        "[lemmatizer.lemmatize(word) for word in words_in_sen]"
      ],
      "metadata": {
        "colab": {
          "base_uri": "https://localhost:8080/"
        },
        "id": "RhS_9C5mZpMf",
        "outputId": "01be757c-affe-4e34-a4bc-23a8fc5a1fc3"
      },
      "execution_count": null,
      "outputs": [
        {
          "output_type": "execute_result",
          "data": {
            "text/plain": [
              "['Backgammon',\n",
              " 'is',\n",
              " 'one',\n",
              " 'of',\n",
              " 'the',\n",
              " 'oldest',\n",
              " 'known',\n",
              " 'board',\n",
              " 'game',\n",
              " '.',\n",
              " 'Its',\n",
              " 'history',\n",
              " 'can',\n",
              " 'be',\n",
              " 'traced',\n",
              " 'back',\n",
              " 'nearly',\n",
              " '5,000',\n",
              " 'year',\n",
              " 'to',\n",
              " 'archeological',\n",
              " 'discovery',\n",
              " 'in',\n",
              " 'the',\n",
              " 'Middle',\n",
              " 'East',\n",
              " '.',\n",
              " 'It',\n",
              " 'is',\n",
              " 'a',\n",
              " 'two',\n",
              " 'player',\n",
              " 'game',\n",
              " 'where',\n",
              " 'each',\n",
              " 'player',\n",
              " 'ha',\n",
              " 'fifteen',\n",
              " 'checker',\n",
              " 'which',\n",
              " 'move',\n",
              " 'between',\n",
              " 'twenty-four',\n",
              " 'point',\n",
              " 'according',\n",
              " 'to',\n",
              " 'the',\n",
              " 'roll',\n",
              " 'of',\n",
              " 'two',\n",
              " 'dice',\n",
              " '.']"
            ]
          },
          "metadata": {},
          "execution_count": 37
        }
      ]
    },
    {
      "cell_type": "code",
      "source": [
        "synsets  = wn.synsets(\"dog\")\n",
        "synsets"
      ],
      "metadata": {
        "colab": {
          "base_uri": "https://localhost:8080/"
        },
        "id": "SUKaH1IzdSq4",
        "outputId": "015fda1c-dd59-4a75-8617-bd82c8c991f8"
      },
      "execution_count": null,
      "outputs": [
        {
          "output_type": "execute_result",
          "data": {
            "text/plain": [
              "[Synset('dog.n.01'),\n",
              " Synset('frump.n.01'),\n",
              " Synset('dog.n.03'),\n",
              " Synset('cad.n.01'),\n",
              " Synset('frank.n.02'),\n",
              " Synset('pawl.n.01'),\n",
              " Synset('andiron.n.01'),\n",
              " Synset('chase.v.01')]"
            ]
          },
          "metadata": {},
          "execution_count": 46
        }
      ]
    }
  ]
}